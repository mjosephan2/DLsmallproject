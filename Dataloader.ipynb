{
 "cells": [
  {
   "cell_type": "markdown",
   "metadata": {},
   "source": [
    "# Import"
   ]
  },
  {
   "cell_type": "code",
   "execution_count": 1,
   "metadata": {},
   "outputs": [],
   "source": [
    "import os\n",
    "# Matplotlib\n",
    "import matplotlib.pyplot as plt\n",
    "# Numpy\n",
    "import numpy as np\n",
    "# Pillow\n",
    "from PIL import Image\n",
    "# Torch\n",
    "import torch\n",
    "from torch.utils.data import Dataset, DataLoader\n",
    "import torch.nn as nn\n",
    "import torch.optim as optim\n",
    "import torch.nn.functional as F\n",
    "from torchvision import transforms"
   ]
  },
  {
   "cell_type": "code",
   "execution_count": null,
   "metadata": {},
   "outputs": [],
   "source": [
    "# train\n",
    "dir = \"dataset/train\"\n",
    "train_normal=len(os.listdir(os.path.join(dir,\"normal\")))\n",
    "train_infected_covid=len(os.listdir(os.path.join(dir,\"infected\",\"covid\")))\n",
    "train_infected_non_covid=len(os.listdir(os.path.join(dir,\"infected\",\"non-covid\")))"
   ]
  },
  {
   "cell_type": "code",
   "execution_count": null,
   "metadata": {},
   "outputs": [],
   "source": [
    "# val\n",
    "dir = \"dataset/val\"\n",
    "val_normal=len(os.listdir(os.path.join(dir,\"normal\")))\n",
    "val_infected_covid=len(os.listdir(os.path.join(dir,\"infected\",\"covid\")))\n",
    "val_infected_non_covid=len(os.listdir(os.path.join(dir,\"infected\",\"non-covid\")))"
   ]
  },
  {
   "cell_type": "code",
   "execution_count": null,
   "metadata": {},
   "outputs": [],
   "source": [
    "# test\n",
    "dir = \"dataset/test\"\n",
    "test_normal=len(os.listdir(os.path.join(dir,\"normal\")))\n",
    "test_infected_covid=len(os.listdir(os.path.join(dir,\"infected\",\"covid\")))\n",
    "test_infected_non_covid=len(os.listdir(os.path.join(dir,\"infected\",\"non-covid\")))"
   ]
  },
  {
   "cell_type": "code",
   "execution_count": null,
   "metadata": {},
   "outputs": [],
   "source": [
    "# print\n",
    "print(\"Train\")\n",
    "print(\"Normal:\", train_normal)\n",
    "print(\"Infected:\", train_infected_covid + train_infected_non_covid)\n",
    "print(\"Infected covid:\", train_infected_covid)\n",
    "print(\"Infected non covid:\", train_infected_non_covid)\n",
    "\n",
    "print(\"============================================================\")\n",
    "print(\"Validation\")\n",
    "print(\"Normal:\", val_normal)\n",
    "print(\"Infected:\", val_infected_covid + val_infected_non_covid)\n",
    "print(\"Infected covid:\", val_infected_covid)\n",
    "print(\"Infected non covid:\", val_infected_non_covid)\n",
    "\n",
    "print(\"============================================================\")\n",
    "print(\"Test\")\n",
    "print(\"Normal:\", test_normal)\n",
    "print(\"Infected:\", test_infected_covid + test_infected_non_covid)\n",
    "print(\"Infected covid:\", test_infected_covid)\n",
    "print(\"Infected non covid:\", test_infected_non_covid)"
   ]
  },
  {
   "cell_type": "code",
   "execution_count": null,
   "metadata": {},
   "outputs": [],
   "source": [
    "# Number of images in each part of the dataset\n",
    "dataset_numbers = {'train_normal': 1341,\\\n",
    "                   'train_infected': 3875,\\\n",
    "                   'train_infected_covid': 1345,\\\n",
    "                   'train_infected_non_covid': 2530, \\\n",
    "                   'val_normal': 8,\\\n",
    "                   'val_infected': 17, \\\n",
    "                   'val_infected_covid': 9,\\\n",
    "                   'val_infected_non_covid': 8,\\\n",
    "                   'test_normal': 234, \\\n",
    "                   'test_infected': 381, \\\n",
    "                   'test_infected_covid': 139, \\\n",
    "                   'test_infected_non_covid': 242}"
   ]
  },
  {
   "cell_type": "markdown",
   "metadata": {},
   "source": [
    "# Visualization"
   ]
  },
  {
   "cell_type": "code",
   "execution_count": null,
   "metadata": {},
   "outputs": [],
   "source": []
  },
  {
   "cell_type": "markdown",
   "metadata": {},
   "source": [
    "# Data Loader for three-classes classifier"
   ]
  },
  {
   "cell_type": "code",
   "execution_count": 2,
   "metadata": {},
   "outputs": [
    {
     "name": "stdout",
     "output_type": "stream",
     "text": [
      "<torch.utils.data.dataloader.DataLoader object at 0x7f040bc6e240>\n",
      "<torch.utils.data.dataloader.DataLoader object at 0x7f040bc6e588>\n",
      "<torch.utils.data.dataloader.DataLoader object at 0x7f040bc6e2b0>\n"
     ]
    }
   ],
   "source": [
    "from dataloader import Lung_Dataset\n",
    "# Test\n",
    "bs = 4\n",
    "ld_train = Lung_Dataset(groups=\"train\")\n",
    "ld_val = Lung_Dataset(groups=\"val\")\n",
    "ld_test = Lung_Dataset(groups=\"test\")\n",
    "train_loader = DataLoader(ld_train, batch_size = bs, shuffle = True)\n",
    "test_loader = DataLoader(ld_test, batch_size = bs, shuffle = True)\n",
    "val_loader = DataLoader(ld_val, batch_size = bs, shuffle = True)\n",
    "\n",
    "print(train_loader)\n",
    "print(val_loader)\n",
    "print(test_loader)"
   ]
  },
  {
   "cell_type": "code",
   "execution_count": 3,
   "metadata": {},
   "outputs": [
    {
     "name": "stdout",
     "output_type": "stream",
     "text": [
      "-----\n",
      "0\n",
      "torch.Size([4, 1, 150, 150])\n"
     ]
    }
   ],
   "source": [
    "for k, v in enumerate(test_loader):\n",
    "    print(\"-----\")\n",
    "    print(k)\n",
    "    print(v[0].shape)\n",
    "    # Forced stop\n",
    "    break"
   ]
  },
  {
   "cell_type": "markdown",
   "metadata": {},
   "source": [
    "# Data Loader for two binary classifier"
   ]
  },
  {
   "cell_type": "code",
   "execution_count": 4,
   "metadata": {},
   "outputs": [
    {
     "name": "stdout",
     "output_type": "stream",
     "text": [
      "<torch.utils.data.dataloader.DataLoader object at 0x7f040b89e588>\n",
      "<torch.utils.data.dataloader.DataLoader object at 0x7f040bc6e240>\n",
      "<torch.utils.data.dataloader.DataLoader object at 0x7f040bc6e470>\n"
     ]
    }
   ],
   "source": [
    "from dataloader import Binary_Lung_Dataset\n",
    "\n",
    "# Test\n",
    "bs = 4\n",
    "ld_train = Binary_Lung_Dataset(groups=\"train\",  classify=\"normal\")\n",
    "ld_val = Binary_Lung_Dataset(groups=\"val\", classify=\"normal\")\n",
    "ld_test = Binary_Lung_Dataset(groups=\"test\",  classify=\"normal\")\n",
    "train_loader = DataLoader(ld_train, batch_size = bs, shuffle = True)\n",
    "test_loader = DataLoader(ld_test, batch_size = bs, shuffle = True)\n",
    "val_loader = DataLoader(ld_val, batch_size = bs, shuffle = True)\n",
    "\n",
    "print(train_loader)\n",
    "print(val_loader)\n",
    "print(test_loader)"
   ]
  },
  {
   "cell_type": "code",
   "execution_count": 5,
   "metadata": {},
   "outputs": [
    {
     "name": "stdout",
     "output_type": "stream",
     "text": [
      "-----\n",
      "0\n",
      "torch.Size([4, 1, 150, 150])\n"
     ]
    }
   ],
   "source": [
    "for k, v in enumerate(test_loader):\n",
    "    print(\"-----\")\n",
    "    print(k)\n",
    "    print(v[0].shape)\n",
    "    # Forced stop\n",
    "    break"
   ]
  },
  {
   "cell_type": "code",
   "execution_count": 6,
   "metadata": {},
   "outputs": [
    {
     "name": "stdout",
     "output_type": "stream",
     "text": [
      "<torch.utils.data.dataloader.DataLoader object at 0x7f040b89e5f8>\n",
      "<torch.utils.data.dataloader.DataLoader object at 0x7f040bc6e3c8>\n",
      "<torch.utils.data.dataloader.DataLoader object at 0x7f040b89e6a0>\n"
     ]
    }
   ],
   "source": [
    "# Test\n",
    "bs = 4\n",
    "ld_train = Binary_Lung_Dataset(groups=\"train\",  classify=\"infected\")\n",
    "ld_val = Binary_Lung_Dataset(groups=\"val\", classify=\"infected\")\n",
    "ld_test = Binary_Lung_Dataset(groups=\"test\",  classify=\"infected\")\n",
    "train_loader = DataLoader(ld_train, batch_size = bs, shuffle = True)\n",
    "test_loader = DataLoader(ld_test, batch_size = bs, shuffle = True)\n",
    "val_loader = DataLoader(ld_val, batch_size = bs, shuffle = True)\n",
    "\n",
    "print(train_loader)\n",
    "print(val_loader)\n",
    "print(test_loader)"
   ]
  },
  {
   "cell_type": "code",
   "execution_count": 7,
   "metadata": {},
   "outputs": [
    {
     "name": "stdout",
     "output_type": "stream",
     "text": [
      "-----\n",
      "0\n",
      "torch.Size([4, 1, 150, 150])\n"
     ]
    }
   ],
   "source": [
    "for k, v in enumerate(test_loader):\n",
    "    print(\"-----\")\n",
    "    print(k)\n",
    "    print(v[0].shape)\n",
    "    # Forced stop\n",
    "    break"
   ]
  },
  {
   "cell_type": "code",
   "execution_count": null,
   "metadata": {},
   "outputs": [],
   "source": []
  }
 ],
 "metadata": {
  "kernelspec": {
   "display_name": "Python 3",
   "language": "python",
   "name": "python3"
  },
  "language_info": {
   "codemirror_mode": {
    "name": "ipython",
    "version": 3
   },
   "file_extension": ".py",
   "mimetype": "text/x-python",
   "name": "python",
   "nbconvert_exporter": "python",
   "pygments_lexer": "ipython3",
   "version": "3.6.10"
  }
 },
 "nbformat": 4,
 "nbformat_minor": 4
}
